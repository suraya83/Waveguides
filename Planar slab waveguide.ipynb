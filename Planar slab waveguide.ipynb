{
 "cells": [
  {
   "cell_type": "code",
   "execution_count": 1,
   "metadata": {
    "collapsed": true
   },
   "outputs": [],
   "source": [
    "import numpy as np\n",
    "import matplotlib.pyplot as plt\n",
    "%matplotlib inline"
   ]
  },
  {
   "cell_type": "markdown",
   "metadata": {},
   "source": [
    "# Define Parameters"
   ]
  },
  {
   "cell_type": "code",
   "execution_count": 42,
   "metadata": {
    "collapsed": true
   },
   "outputs": [],
   "source": [
    "n1 = 1.6   # core\n",
    "n2 = 1.45  # cladding\n",
    "n3 = 1    # air\n",
    "d = 1E-6  # core height in meter \n",
    "lam = 1550E-9  # wavelength in meter\n",
    "c = 3E8  #speed of light (m/s)\n",
    "theta= 30  #angle of incident (degree)\n",
    "z = 1E-2   #width in meter"
   ]
  },
  {
   "cell_type": "code",
   "execution_count": 41,
   "metadata": {
    "collapsed": false
   },
   "outputs": [
    {
     "name": "stdout",
     "output_type": "stream",
     "text": [
      "K1 = 3242934.35, K2 = 2938909.26, K3=2026833.97\n"
     ]
    }
   ],
   "source": [
    "k1=n1*(np.pi)/lam\n",
    "k2=n2*(np.pi)/lam\n",
    "k3=n3*(np.pi)/lam\n",
    "\n",
    "assert (k1 > k2) & (k2 >= k3), 'Check k values'\n",
    "\n",
    "print('K1 = %.2f, K2 = %.2f, K3=%.2f' % (k1,k2,k3))\n"
   ]
  },
  {
   "cell_type": "code",
   "execution_count": 31,
   "metadata": {
    "collapsed": false
   },
   "outputs": [
    {
     "name": "stdout",
     "output_type": "stream",
     "text": [
      "1.13432729806 0.675131532937\n"
     ]
    }
   ],
   "source": [
    "theta_c2=np.arcsin(n2/n1)  #critical angle for lower interphase\n",
    "theta_c3=np.arcsin(n3/n1)  #critical angle for upper interphase\n",
    "print(theta_c2,theta_c3)"
   ]
  },
  {
   "cell_type": "code",
   "execution_count": 33,
   "metadata": {
    "collapsed": true
   },
   "outputs": [],
   "source": [
    "assert(theta>theta_c2)& (theta_c2>theta_c3), 'Wave not guide'"
   ]
  },
  {
   "cell_type": "code",
   "execution_count": 39,
   "metadata": {
    "collapsed": false
   },
   "outputs": [
    {
     "name": "stdout",
     "output_type": "stream",
     "text": [
      "2808463.53172 1621467.17605\n"
     ]
    }
   ],
   "source": [
    "kx=k1*np.cos(np.radians(theta))\n",
    "beta=k1*np.sin(np.radians(theta))\n",
    "print(kx,beta)"
   ]
  },
  {
   "cell_type": "code",
   "execution_count": 67,
   "metadata": {
    "collapsed": false
   },
   "outputs": [
    {
     "data": {
      "text/plain": [
       "[<matplotlib.lines.Line2D at 0x7c186a0>]"
      ]
     },
     "execution_count": 67,
     "metadata": {},
     "output_type": "execute_result"
    },
    {
     "data": {
      "image/png": "[encoded data removed]",
      "text/plain": [
       "<matplotlib.figure.Figure at 0x9116208>"
      ]
     },
     "metadata": {},
     "output_type": "display_data"
    }
   ],
   "source": [
    "h=np.linspace(0,d,1000)\n",
    "E0 = 1\n",
    "#E =2*E0*np.cos(h*d)*np.exp(beta*z)\n",
    "E =2*E0*np.cos(h*x)\n",
    "#E = np.exp(1j*h).real\n",
    "plt.plot(h,E)"
   ]
  },
  {
   "cell_type": "code",
   "execution_count": 49,
   "metadata": {
    "collapsed": false
   },
   "outputs": [
    {
     "data": {
      "text/plain": [
       "array(0j)"
      ]
     },
     "execution_count": 49,
     "metadata": {},
     "output_type": "execute_result"
    }
   ],
   "source": [
    "# E=Ev(x) * exp(i*(Bv*z-w*t))\n",
    "E1 = np.array(0, dtype=complex)\n",
    "E1 = np cos"
   ]
  },
  {
   "cell_type": "code",
   "execution_count": null,
   "metadata": {
    "collapsed": true
   },
   "outputs": [],
   "source": []
  }
 ],
 "metadata": {
  "kernelspec": {
   "display_name": "Python 3",
   "language": "python",
   "name": "python3"
  },
  "language_info": {
   "codemirror_mode": {
    "name": "ipython",
    "version": 3
   },
   "file_extension": ".py",
   "mimetype": "text/x-python",
   "name": "python",
   "nbconvert_exporter": "python",
   "pygments_lexer": "ipython3",
   "version": "3.4.3"
  }
 },
 "nbformat": 4,
 "nbformat_minor": 0
}
