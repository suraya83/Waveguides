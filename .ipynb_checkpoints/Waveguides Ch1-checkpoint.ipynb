{
 "cells": [
  {
   "cell_type": "code",
   "execution_count": 21,
   "metadata": {
    "collapsed": true
   },
   "outputs": [],
   "source": [
    "import numpy as np\n",
    "import matplotlib.pyplot as plt\n",
    "%matplotlib inline"
   ]
  },
  {
   "cell_type": "markdown",
   "metadata": {},
   "source": [
    "# Chapter 1\n",
    "## 1.1 Waveguide Structure\n"
   ]
  },
  {
   "cell_type": "code",
   "execution_count": 22,
   "metadata": {
    "collapsed": false
   },
   "outputs": [
    {
     "data": {
      "text/plain": [
       "(35.128552629911532, 0.61310890485206937)"
      ]
     },
     "execution_count": 22,
     "metadata": {},
     "output_type": "execute_result"
    }
   ],
   "source": [
    "n1 = 1.56   # Core (higher than cladding)\n",
    "n0 = 1.45  # Cladding\n",
    "\n",
    "# Max theta incident on waveguide for TIRF/ light acceptance angle in degrees:\n",
    "theta_max = np.degrees(np.arcsin(np.sqrt(n1**2 - n0**2))) # (1.1)\n",
    "NA = np.radians(theta_max)  # Numerical Aperture (1.4)\n",
    "delta = (n1**2 - n0**2) / (2*n1**2)  # Relative refractive-index difference (1.3)\n",
    "\n",
    "theta_max, NA"
   ]
  },
  {
   "cell_type": "code",
   "execution_count": 23,
   "metadata": {
    "collapsed": false
   },
   "outputs": [
    {
     "data": {
      "text/plain": [
       "(0.06802679158448392, 32.968730374233232, 0.5754128952326322)"
      ]
     },
     "execution_count": 23,
     "metadata": {},
     "output_type": "execute_result"
    }
   ],
   "source": [
    "# Alternate way to calculate NA from change in refractive index of core and cladding using approximations\n",
    "NA = n1*(2*delta)**0.5               # or np.sqrt(n1**2 - n0**2) or thetaMax in radians (1.4)\n",
    "theta_max = np.degrees(NA)\n",
    "delta, theta_max, NA"
   ]
  },
  {
   "cell_type": "code",
   "execution_count": 24,
   "metadata": {
    "collapsed": false
   },
   "outputs": [
    {
     "data": {
      "text/plain": [
       "20.416021873034133"
      ]
     },
     "execution_count": 24,
     "metadata": {},
     "output_type": "execute_result"
    }
   ],
   "source": [
    "# Propagation angle inside core\n",
    "phi_max = np.degrees(np.arcsin(np.sin(NA) / n1))  # (Snell's Law)\n",
    "phi_max"
   ]
  },
  {
   "cell_type": "markdown",
   "metadata": {},
   "source": [
    "## 1.2 Formation of Guided Modes\n",
    "Even at angles smaller than the critical angle, arbitrary angles are not able to propagate in a waveguide. Each mode is associated with light rays at a discrete angle of propagation as given by EM wave analysis."
   ]
  },
  {
   "cell_type": "code",
   "execution_count": 25,
   "metadata": {
    "collapsed": false
   },
   "outputs": [
    {
     "data": {
      "text/plain": [
       "9.871794871794872e-05"
      ]
     },
     "execution_count": 25,
     "metadata": {},
     "output_type": "execute_result"
    }
   ],
   "source": [
    "# Inside the core for a plane wave propagating along z with angle phi:\n",
    "lambda_0 = 0.000154              # Free space wavelength (cm) \n",
    "lam1 = lambda_0 / n1         # Wavelength inside the core\n",
    "lam1"
   ]
  },
  {
   "cell_type": "code",
   "execution_count": 26,
   "metadata": {
    "collapsed": false
   },
   "outputs": [
    {
     "data": {
      "text/plain": [
       "(20.416021873034133, 59649.778302240826, 22202.542787754152)"
      ]
     },
     "execution_count": 26,
     "metadata": {},
     "output_type": "execute_result"
    }
   ],
   "source": [
    "k = 2*np.pi / lambda_0        # Free space wavenumber\n",
    "k1 = n1 * k                   # Wavenumber in core\n",
    "\n",
    "phi = phi_max                 # Set phi to correspond to light entering waveguide at theta max\n",
    "\n",
    "beta = k * n1 * np.cos(np.radians(phi))   # Propagation constant in z, along waveguide (1.5)\n",
    "kappa = k * n1 * np.sin(np.radians(phi))  # Propagation constant in x, laterial direction. (1.6)\n",
    "\n",
    "phi, beta, kappa"
   ]
  },
  {
   "cell_type": "code",
   "execution_count": 27,
   "metadata": {
    "collapsed": false
   },
   "outputs": [
    {
     "data": {
      "text/plain": [
       "0.00010533459613786275"
      ]
     },
     "execution_count": 27,
     "metadata": {},
     "output_type": "execute_result"
    }
   ],
   "source": [
    "# Condition for propagation angle phi (1.12)\n",
    "lam_p = 2*np.pi / beta; lam_p  # Wavelength period along z"
   ]
  },
  {
   "cell_type": "code",
   "execution_count": 28,
   "metadata": {
    "collapsed": false
   },
   "outputs": [
    {
     "data": {
      "text/plain": [
       "0.94572305787059818"
      ]
     },
     "execution_count": 28,
     "metadata": {},
     "output_type": "execute_result"
    }
   ],
   "source": [
    "eps = np.sin(np.radians(phi)) / np.sqrt(2*delta); eps  # (1.13)\n",
    "# Note that this is normalised to 1 for when phi = phi_max"
   ]
  },
  {
   "cell_type": "code",
   "execution_count": 29,
   "metadata": {
    "collapsed": false,
    "scrolled": true
   },
   "outputs": [
    {
     "data": {
      "text/plain": [
       "<matplotlib.text.Text at 0x84e89b0>"
      ]
     },
     "execution_count": 29,
     "metadata": {},
     "output_type": "execute_result"
    },
    {
     "data": {
      "image/png": "[encoded data removed]",
      "text/plain": [
       "<matplotlib.figure.Figure at 0x86088d0>"
      ]
     },
     "metadata": {},
     "output_type": "display_data"
    }
   ],
   "source": [
    "a = 0.00004  # Half depth of waveguide (um)\n",
    "mode = 5    # Mode numbers to plot\n",
    "\n",
    "# Create linearly spaced array of eps corresponding to phi = 0.1 to phi_max for graph\n",
    "eps = np.asarray([np.sin(np.radians(phi)) / np.sqrt(2*delta) for phi in np.linspace(0.1,phi_max)])\n",
    "\n",
    "v = k*n1*a*np.sqrt(2*delta)  # Normalised frequency, LHS of dispersion eqn (1.15)\n",
    "\n",
    "# Plot modes (fig 1.5b)\n",
    "for m in range(mode):\n",
    "    nu = (np.arccos(eps) + m*np.pi / 2 ) / eps  # (RHS dispersion eqn)\n",
    "    plt.plot(eps,nu, label=m)\n",
    "\n",
    "plt.axhline(v, color='black', label='v')        # Plot the line corresponding to V\n",
    "plt.xlim(0,1); plt.ylim(0,10); plt.legend(loc='best');\n",
    "plt.xlabel('$\\epsilon$'); plt.ylabel('$\\eta$')"
   ]
  },
  {
   "cell_type": "markdown",
   "metadata": {},
   "source": [
    "The crossing point between v (a function of the core refractive index, the cladding refractive index, the wavelength and the core diameter) and $\\eta$, or v = $\\eta$, gives $\\varepsilon_m$ for each mode. When v < v$_c$ = $\\pi$/2 the waveguide only supports one mode. The propagation constant, $\\beta_m$, for each mode may be obtained as follows:"
   ]
  },
  {
   "cell_type": "code",
   "execution_count": 30,
   "metadata": {
    "collapsed": false
   },
   "outputs": [],
   "source": [
    "import scipy.optimize as optimize\n",
    "\n",
    "# Solve for epsilon_m where m is mode number\n",
    "m = 0   # Use only mode 0 as this is the only mode where v crosses eta between eps= 0:1\n",
    "def func(eps):\n",
    "    nu = (np.arccos(eps) + m*np.pi / 2 ) / eps\n",
    "    return nu - v\n",
    "\n",
    "eps_m = optimize.brentq(func, 0.01, 1)"
   ]
  },
  {
   "cell_type": "code",
   "execution_count": 31,
   "metadata": {
    "collapsed": false
   },
   "outputs": [
    {
     "data": {
      "text/plain": [
       "(16.224601471487492, 61112.99942449863)"
      ]
     },
     "execution_count": 31,
     "metadata": {},
     "output_type": "execute_result"
    }
   ],
   "source": [
    "delta = (n1**2 - n0**2) / (2*n1**2)        # (1.3)\n",
    "phi = np.arcsin(eps_m * np.sqrt(2*delta))  # Returns phi in radians - propagation angle of mode m (1.13)\n",
    "beta = k * n1 * np.cos(phi)                # Beta of mode m (1.5)\n",
    "np.degrees(phi), beta"
   ]
  },
  {
   "cell_type": "code",
   "execution_count": 32,
   "metadata": {
    "collapsed": false
   },
   "outputs": [
    {
     "name": "stdout",
     "output_type": "stream",
     "text": [
      "Waveguide is single moded for lambda > 0.00 um\n",
      "Single Mode Achieved. Core wavelength: 0.00 um\n"
     ]
    }
   ],
   "source": [
    "vc = np.pi / 2                                      # Cutoff v-value above which waveguide is not single mode\n",
    "\n",
    "lam_c = (2*np.pi / vc) * a * n1 * np.sqrt(2*delta)  # (1.16)\n",
    "\n",
    "print('Waveguide is single moded for lambda > %.2f um' % lam_c)\n",
    "\n",
    "if v <= np.pi/2:\n",
    "    print('Single Mode Achieved. Core wavelength: %.2f um' % (lambda_0 / n1)) \n",
    "else:\n",
    "    print('Structure supports more than one mode')"
   ]
  },
  {
   "cell_type": "markdown",
   "metadata": {
    "collapsed": true
   },
   "source": [
    "# 1.3 Maxwell's Equations"
   ]
  }
 ],
 "metadata": {
  "kernelspec": {
   "display_name": "Python 3",
   "language": "python",
   "name": "python3"
  },
  "language_info": {
   "codemirror_mode": {
    "name": "ipython",
    "version": 3
   },
   "file_extension": ".py",
   "mimetype": "text/x-python",
   "name": "python",
   "nbconvert_exporter": "python",
   "pygments_lexer": "ipython3",
   "version": "3.4.3"
  }
 },
 "nbformat": 4,
 "nbformat_minor": 0
}
