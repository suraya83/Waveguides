{
 "cells": [
  {
   "cell_type": "code",
   "execution_count": 1,
   "metadata": {
    "collapsed": true
   },
   "outputs": [],
   "source": [
    "import numpy as np\n",
    "import matplotlib.pyplot as plt\n",
    "import scipy.optimize as optimize\n",
    "\n",
    "%matplotlib inline\n",
    "from numpy import pi"
   ]
  },
  {
   "cell_type": "code",
   "execution_count": 66,
   "metadata": {
    "collapsed": true
   },
   "outputs": [],
   "source": [
    "n1 = 1.56   # Core (higher than cladding)\n",
    "no = 1.45   # Cladding\n",
    "ns = no\n",
    "\n",
    "delta = (n1**2 - no**2) / (2*n1**2)\n",
    "lambda_0 = 1.55             # Free space wavelength (um)\n",
    "k = 2*pi / lambda_0        # Free space wavenumber\n",
    "\n",
    "a = 0.4     # Half depth of waveguide (um)\n",
    "mode = 5    # Mode numbers to plot"
   ]
  },
  {
   "cell_type": "code",
   "execution_count": 71,
   "metadata": {
    "collapsed": false
   },
   "outputs": [
    {
     "data": {
      "text/plain": [
       "0.93301312229350752"
      ]
     },
     "execution_count": 71,
     "metadata": {},
     "output_type": "execute_result"
    }
   ],
   "source": [
    "v = k*n1*a*np.sqrt(2*delta)  # Normalised frequency, LHS of dispersion eqn (1.15)\n",
    "v"
   ]
  },
  {
   "cell_type": "code",
   "execution_count": 67,
   "metadata": {
    "collapsed": false
   },
   "outputs": [],
   "source": [
    "m = np.arange(0,6)\n",
    "vTE=m*pi/2\n",
    "vTM = vTE"
   ]
  },
  {
   "cell_type": "code",
   "execution_count": 68,
   "metadata": {
    "collapsed": false
   },
   "outputs": [],
   "source": [
    "b = np.linspace (0,1,1000, endpoint=False)"
   ]
  },
  {
   "cell_type": "code",
   "execution_count": 69,
   "metadata": {
    "collapsed": false
   },
   "outputs": [],
   "source": [
    "def f(b,v,m):\n",
    "    return (v*np.sqrt(1-b))-m*pi/2-np.arctan(np.sqrt(b/(1-b)))"
   ]
  },
  {
   "cell_type": "code",
   "execution_count": 83,
   "metadata": {
    "collapsed": false,
    "scrolled": true
   },
   "outputs": [
    {
     "name": "stdout",
     "output_type": "stream",
     "text": [
      "m = 0 and b = 0.90198\n",
      "m = 1 and b = 0.61728\n",
      "m = 2 and b = 0.19211\n"
     ]
    },
    {
     "data": {
      "image/png": "[encoded data removed]",
      "text/plain": [
       "<matplotlib.figure.Figure at 0x9a1c550>"
      ]
     },
     "metadata": {},
     "output_type": "display_data"
    }
   ],
   "source": [
    "a = []\n",
    "v=4\n",
    "for m in range(mode):\n",
    "    plt.plot(b, f(b,v,m), label=m)\n",
    "    \n",
    "    try:\n",
    "        y = optimize.brentq(f, 0, 0.999, args=(v,m))\n",
    "        a.append(y)\n",
    "        print('m = %d and b = %.5f' % (m,y))\n",
    "    except ValueError:\n",
    "        None\n",
    "\n",
    "plt.axhline(0, color='k')\n",
    "plt.legend(loc='best' )\n",
    "plt.xlabel('b')\n",
    "plt.ylabel('f(v,m,b)')\n",
    "plt.title('v = %d' % (v))\n",
    "\n",
    "a = np.asarray(a)"
   ]
  },
  {
   "cell_type": "code",
   "execution_count": 37,
   "metadata": {
    "collapsed": true
   },
   "outputs": [],
   "source": [
    "optimize.brentq?"
   ]
  },
  {
   "cell_type": "code",
   "execution_count": 89,
   "metadata": {
    "collapsed": false
   },
   "outputs": [
    {
     "name": "stdout",
     "output_type": "stream",
     "text": [
      "0.90197571108\n",
      "0.617279357713\n",
      "0.19211143201\n"
     ]
    }
   ],
   "source": [
    "for i in range(np.size(a)):\n",
    "    print(a[i])"
   ]
  },
  {
   "cell_type": "code",
   "execution_count": null,
   "metadata": {
    "collapsed": true
   },
   "outputs": [],
   "source": []
  }
 ],
 "metadata": {
  "kernelspec": {
   "display_name": "Python 3",
   "language": "python",
   "name": "python3"
  },
  "language_info": {
   "codemirror_mode": {
    "name": "ipython",
    "version": 3
   },
   "file_extension": ".py",
   "mimetype": "text/x-python",
   "name": "python",
   "nbconvert_exporter": "python",
   "pygments_lexer": "ipython3",
   "version": "3.4.3"
  }
 },
 "nbformat": 4,
 "nbformat_minor": 0
}
