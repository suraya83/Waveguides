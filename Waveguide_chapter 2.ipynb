{
 "cells": [
  {
   "cell_type": "code",
   "execution_count": 18,
   "metadata": {
    "collapsed": true
   },
   "outputs": [],
   "source": [
    "import numpy as np\n",
    "import matplotlib.pyplot as plt\n",
    "import scipy.optimize as optimize\n",
    "\n",
    "%matplotlib inline\n",
    "from numpy import pi"
   ]
  },
  {
   "cell_type": "code",
   "execution_count": 19,
   "metadata": {
    "collapsed": true
   },
   "outputs": [],
   "source": [
    "n1 = 1.56   # Core (higher than cladding)\n",
    "no = 1.45   # Cladding\n",
    "ns = no\n",
    "\n",
    "delta = (n1**2 - no**2) / (2*n1**2)\n",
    "lambda_0 = 1.55             # Free space wavelength (um)\n",
    "k = 2*pi / lambda_0        # Free space wavenumber\n",
    "\n",
    "a = 0.4     # Half depth of waveguide (um)\n",
    "mode = 5    # Mode numbers to plot"
   ]
  },
  {
   "cell_type": "code",
   "execution_count": 20,
   "metadata": {
    "collapsed": false
   },
   "outputs": [
    {
     "data": {
      "text/plain": [
       "0.93301312229350752"
      ]
     },
     "execution_count": 20,
     "metadata": {},
     "output_type": "execute_result"
    }
   ],
   "source": [
    "v = k*n1*a*np.sqrt(2*delta)  # Normalised frequency, LHS of dispersion eqn (1.15)\n",
    "v"
   ]
  },
  {
   "cell_type": "code",
   "execution_count": 21,
   "metadata": {
    "collapsed": false
   },
   "outputs": [],
   "source": [
    "m = np.arange(0,6)\n",
    "vTE=m*pi/2\n",
    "vTM = vTE"
   ]
  },
  {
   "cell_type": "code",
   "execution_count": 22,
   "metadata": {
    "collapsed": false
   },
   "outputs": [],
   "source": [
    "b = np.linspace (0,1,1000, endpoint=False)"
   ]
  },
  {
   "cell_type": "code",
   "execution_count": 23,
   "metadata": {
    "collapsed": false
   },
   "outputs": [],
   "source": [
    "def f(b,v,m):\n",
    "    return (v*np.sqrt(1-b))-m*pi/2-np.arctan(np.sqrt(b/(1-b)))   # Dispersion equation"
   ]
  },
  {
   "cell_type": "code",
   "execution_count": 24,
   "metadata": {
    "collapsed": false,
    "scrolled": true
   },
   "outputs": [
    {
     "name": "stdout",
     "output_type": "stream",
     "text": [
      "m = 0 and b = 0.42339\n"
     ]
    },
    {
     "data": {
      "image/png": "[encoded data removed]",
      "text/plain": [
       "<matplotlib.figure.Figure at 0x5aceeb8>"
      ]
     },
     "metadata": {},
     "output_type": "display_data"
    }
   ],
   "source": [
    "a = []   # normalised propagation constant\n",
    "\n",
    "for m in range(mode):\n",
    "    plt.plot(b, f(b,v,m), label=m)\n",
    "    \n",
    "    try:\n",
    "        y = optimize.brentq(f, 0, 0.999, args=(v,m))\n",
    "        a.append(y)\n",
    "        print('m = %d and b = %.5f' % (m,y))\n",
    "    except ValueError:\n",
    "        None\n",
    "\n",
    "plt.axhline(0, color='k')\n",
    "plt.legend(loc='best' )\n",
    "plt.xlabel('b')\n",
    "plt.ylabel('f(v,m,b)')\n",
    "\n",
    "a = np.asarray(a)"
   ]
  },
  {
   "cell_type": "code",
   "execution_count": 25,
   "metadata": {
    "collapsed": false
   },
   "outputs": [
    {
     "name": "stdout",
     "output_type": "stream",
     "text": [
      "0.423388049888\n"
     ]
    }
   ],
   "source": [
    "for i in range(np.size(a)):\n",
    "    print(a[i])"
   ]
  },
  {
   "cell_type": "code",
   "execution_count": 30,
   "metadata": {
    "collapsed": false
   },
   "outputs": [
    {
     "data": {
      "text/plain": [
       "array([ 1.49755928])"
      ]
     },
     "execution_count": 30,
     "metadata": {},
     "output_type": "execute_result"
    }
   ],
   "source": [
    "ne=np.sqrt((a*(n1**2-ns**2))+(ns**2))\n",
    "ne"
   ]
  },
  {
   "cell_type": "code",
   "execution_count": 32,
   "metadata": {
    "collapsed": false
   },
   "outputs": [
    {
     "data": {
      "text/plain": [
       "array([ 6.07060802])"
      ]
     },
     "execution_count": 32,
     "metadata": {},
     "output_type": "execute_result"
    }
   ],
   "source": [
    "beta = ne*k\n",
    "beta"
   ]
  },
  {
   "cell_type": "code",
   "execution_count": 34,
   "metadata": {
    "collapsed": false
   },
   "outputs": [
    {
     "data": {
      "text/plain": [
       "(array([ 1.77120806]), array([ 1.51773888]))"
      ]
     },
     "execution_count": 34,
     "metadata": {},
     "output_type": "execute_result"
    }
   ],
   "source": [
    "kappa = np.sqrt (k**2*n1**2-beta**2)\n",
    "sigma = np.sqrt (beta**2-k**2*no**2)\n",
    "kappa,sigma"
   ]
  },
  {
   "cell_type": "code",
   "execution_count": null,
   "metadata": {
    "collapsed": true
   },
   "outputs": [],
   "source": []
  },
  {
   "cell_type": "code",
   "execution_count": null,
   "metadata": {
    "collapsed": true
   },
   "outputs": [],
   "source": []
  }
 ],
 "metadata": {
  "kernelspec": {
   "display_name": "Python 3",
   "language": "python",
   "name": "python3"
  },
  "language_info": {
   "codemirror_mode": {
    "name": "ipython",
    "version": 3
   },
   "file_extension": ".py",
   "mimetype": "text/x-python",
   "name": "python",
   "nbconvert_exporter": "python",
   "pygments_lexer": "ipython3",
   "version": "3.4.3"
  }
 },
 "nbformat": 4,
 "nbformat_minor": 0
}
