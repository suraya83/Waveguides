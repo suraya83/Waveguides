{
 "cells": [
  {
   "cell_type": "code",
   "execution_count": 1,
   "metadata": {
    "collapsed": true
   },
   "outputs": [],
   "source": [
    "import numpy as np\n",
    "import matplotlib.pyplot as plt\n",
    "%matplotlib inline"
   ]
  },
  {
   "cell_type": "markdown",
   "metadata": {},
   "source": [
    "# Chapter 1\n",
    "## 1.1 Waveguide Structure\n"
   ]
  },
  {
   "cell_type": "code",
   "execution_count": 2,
   "metadata": {
    "collapsed": false
   },
   "outputs": [
    {
     "data": {
      "text/plain": [
       "(12.090919733912804, 0.21102635895113511)"
      ]
     },
     "execution_count": 2,
     "metadata": {},
     "output_type": "execute_result"
    }
   ],
   "source": [
    "n1 = 1.47   # Core (higher than cladding)\n",
    "n0 = 1.455  # Cladding\n",
    "\n",
    "# Max theta incident on waveguide for TIRF/ light acceptance angle in degrees:\n",
    "theta_max = np.degrees(np.arcsin(np.sqrt(n1**2 - n0**2))) # (1.1)\n",
    "NA = np.radians(theta_max)  # Numerical Aperture (1.4)\n",
    "\n",
    "theta_max, NA"
   ]
  },
  {
   "cell_type": "code",
   "execution_count": 3,
   "metadata": {
    "collapsed": false
   },
   "outputs": [
    {
     "data": {
      "text/plain": [
       "(0.01015201999167001, 12.001380279233029, 0.2094636006565328)"
      ]
     },
     "execution_count": 3,
     "metadata": {},
     "output_type": "execute_result"
    }
   ],
   "source": [
    "# Alternate way to calculate NA from change in refractive index of core and cladding using approximations\n",
    "delta = (n1**2 - n0**2) / (2*n1**2)  # Relative refractive-index difference (1.3)\n",
    "NA = n1*(2*delta)**0.5               # or np.sqrt(n1**2 - n0**2) or thetaMax in radians (1.4)\n",
    "theta_max = np.degrees(NA)\n",
    "delta, theta_max, NA"
   ]
  },
  {
   "cell_type": "code",
   "execution_count": 4,
   "metadata": {
    "collapsed": false
   },
   "outputs": [
    {
     "data": {
      "text/plain": [
       "8.1319080202503642"
      ]
     },
     "execution_count": 4,
     "metadata": {},
     "output_type": "execute_result"
    }
   ],
   "source": [
    "# Propagation angle inside core\n",
    "phi_max = np.degrees(np.arcsin(np.sin(NA) / n1))  # (Snell's Law)\n",
    "phi_max"
   ]
  },
  {
   "cell_type": "markdown",
   "metadata": {},
   "source": [
    "## 1.2 Formation of Guided Modes\n",
    "Even at angles smaller than the critical angle, arbitrary angles are not able to propagate in a waveguide. Each mode is associated with light rays at a discrete angle of propagation as given by EM wave analysis."
   ]
  },
  {
   "cell_type": "code",
   "execution_count": 5,
   "metadata": {
    "collapsed": false
   },
   "outputs": [
    {
     "data": {
      "text/plain": [
       "1.0476190476190477"
      ]
     },
     "execution_count": 5,
     "metadata": {},
     "output_type": "execute_result"
    }
   ],
   "source": [
    "# Inside the core for a plane wave propagating along z with angle phi:\n",
    "lambda_0 = 1.54              # Free space wavelength (um) \n",
    "lam1 = lambda_0 / n1         # Wavelength inside the core\n",
    "lam1"
   ]
  },
  {
   "cell_type": "code",
   "execution_count": 6,
   "metadata": {
    "collapsed": false
   },
   "outputs": [
    {
     "data": {
      "text/plain": [
       "(8.1319080202503642, 5.9372804657755713, 0.848373855477081)"
      ]
     },
     "execution_count": 6,
     "metadata": {},
     "output_type": "execute_result"
    }
   ],
   "source": [
    "k = 2*np.pi / lambda_0        # Free space wavenumber\n",
    "k1 = n1 * k                   # Wavenumber in core\n",
    "\n",
    "phi = phi_max                 # Set phi to correspond to light entering waveguide at theta max\n",
    "\n",
    "beta = k * n1 * np.cos(np.radians(phi))   # Propagation constant in z, along waveguide (1.5)\n",
    "kappa = k * n1 * np.sin(np.radians(phi))  # Propagation constant in x, laterial direction. (1.6)\n",
    "\n",
    "phi, beta, kappa"
   ]
  },
  {
   "cell_type": "code",
   "execution_count": 7,
   "metadata": {
    "collapsed": false
   },
   "outputs": [
    {
     "data": {
      "text/plain": [
       "1.0582598116086859"
      ]
     },
     "execution_count": 7,
     "metadata": {},
     "output_type": "execute_result"
    }
   ],
   "source": [
    "# Condition for propagation angle phi (1.12)\n",
    "lam_p = 2*np.pi / beta; lam_p  # Wavelength period along z"
   ]
  },
  {
   "cell_type": "code",
   "execution_count": 8,
   "metadata": {
    "collapsed": false
   },
   "outputs": [
    {
     "data": {
      "text/plain": [
       "0.99270352504913439"
      ]
     },
     "execution_count": 8,
     "metadata": {},
     "output_type": "execute_result"
    }
   ],
   "source": [
    "eps = np.sin(np.radians(phi)) / np.sqrt(2*delta); eps  # (1.13)\n",
    "# Note that this is normalised to 1 for when phi = phi_max"
   ]
  },
  {
   "cell_type": "code",
   "execution_count": 21,
   "metadata": {
    "collapsed": false,
    "scrolled": true
   },
   "outputs": [
    {
     "data": {
      "text/plain": [
       "<matplotlib.text.Text at 0x10745a3c8>"
      ]
     },
     "execution_count": 21,
     "metadata": {},
     "output_type": "execute_result"
    },
    {
     "data": {
      "image/png": "[encoded data removed]",
      "text/plain": [
       "<matplotlib.figure.Figure at 0x107367668>"
      ]
     },
     "metadata": {},
     "output_type": "display_data"
    }
   ],
   "source": [
    "a = 2/2  # Half depth of waveguide (um)\n",
    "mode = 5    # Mode numbers to plot\n",
    "\n",
    "# Create linearly spaced array of eps corresponding to phi = 0.1 to phi_max for graph\n",
    "eps = np.asarray([np.sin(np.radians(phi)) / np.sqrt(2*delta) for phi in np.linspace(0.1,phi_max)])\n",
    "\n",
    "v = k*n1*a*np.sqrt(2*delta)  # Normalised frequency, LHS of dispersion eqn (1.15)\n",
    "\n",
    "# Plot modes (fig 1.5b)\n",
    "for m in range(mode):\n",
    "    nu = (np.arccos(eps) + m*np.pi / 2 ) / eps  # (RHS dispersion eqn)\n",
    "    plt.plot(eps,nu, label=m)\n",
    "\n",
    "plt.axhline(v, color='black', label='v')        # Plot the line corresponding to V\n",
    "plt.xlim(0,1); plt.ylim(0,10); plt.legend(loc='best');\n",
    "plt.xlabel('$\\epsilon$'); plt.ylabel('$\\eta$')"
   ]
  },
  {
   "cell_type": "markdown",
   "metadata": {},
   "source": [
    "The crossing point between v (a function of the core refractive index, the cladding refractive index, the wavelength and the core diameter) and $\\eta$, or v = $\\eta$, gives $\\varepsilon_m$ for each mode. When v < v$_c$ = $\\pi$/2 the waveguide only supports one mode. The propagation constant, $\\beta_m$, for each mode may be obtained as follows:"
   ]
  },
  {
   "cell_type": "code",
   "execution_count": 35,
   "metadata": {
    "collapsed": false
   },
   "outputs": [],
   "source": [
    "import scipy.optimize as optimize\n",
    "\n",
    "# Solve for epsilon_m where m is mode number\n",
    "m = 0   # Use only mode 0 as this is the only mode where v crosses eta between eps= 0:1\n",
    "def func(eps):\n",
    "    nu = (np.arccos(eps) + m*np.pi / 2 ) / eps\n",
    "    return nu - v\n",
    "\n",
    "eps_m = optimize.brentq(func, 0.01, 1)"
   ]
  },
  {
   "cell_type": "code",
   "execution_count": 36,
   "metadata": {
    "collapsed": false
   },
   "outputs": [
    {
     "data": {
      "text/plain": [
       "(6.4131216967771874, 5.9600552701648795)"
      ]
     },
     "execution_count": 36,
     "metadata": {},
     "output_type": "execute_result"
    }
   ],
   "source": [
    "delta = (n1**2 - n0**2) / (2*n1**2)        # (1.3)\n",
    "phi = np.arcsin(eps_m * np.sqrt(2*delta))  # Returns phi in radians - propagation angle of mode m (1.13)\n",
    "beta = k * n1 * np.cos(phi)                # Beta of mode m (1.5)\n",
    "np.degrees(phi), beta"
   ]
  },
  {
   "cell_type": "code",
   "execution_count": 41,
   "metadata": {
    "collapsed": false
   },
   "outputs": [
    {
     "name": "stdout",
     "output_type": "stream",
     "text": [
      "Waveguide is single moded for lambda > 0.84 um\n",
      "Single Mode Achieved. Core wavelength: 1.05\n"
     ]
    }
   ],
   "source": [
    "vc = np.pi / 2                                      # Cutoff v-value above which waveguide is not single mode\n",
    "\n",
    "lam_c = (2*np.pi / vc) * a * n1 * np.sqrt(2*delta)  # (1.16)\n",
    "\n",
    "print('Waveguide is single moded for lambda > %.2f um' % lam_c)\n",
    "\n",
    "if v <= np.pi/2:\n",
    "    print('Single Mode Achieved. Core wavelength: %.2f um' % (lambda_0 / n1)) \n",
    "else:\n",
    "    print('Structure supports more than one mode')"
   ]
  },
  {
   "cell_type": "markdown",
   "metadata": {
    "collapsed": true
   },
   "source": [
    "# 1.3 Maxwell's Equations"
   ]
  },
  {
   "cell_type": "code",
   "execution_count": null,
   "metadata": {
    "collapsed": true
   },
   "outputs": [],
   "source": []
  }
 ],
 "metadata": {
  "kernelspec": {
   "display_name": "Python 3",
   "language": "python",
   "name": "python3"
  },
  "language_info": {
   "codemirror_mode": {
    "name": "ipython",
    "version": 3
   },
   "file_extension": ".py",
   "mimetype": "text/x-python",
   "name": "python",
   "nbconvert_exporter": "python",
   "pygments_lexer": "ipython3",
   "version": "3.4.3"
  }
 },
 "nbformat": 4,
 "nbformat_minor": 0
}
