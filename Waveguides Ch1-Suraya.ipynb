{
 "cells": [
  {
   "cell_type": "code",
   "execution_count": 3,
   "metadata": {
    "collapsed": true
   },
   "outputs": [],
   "source": [
    "import numpy as np\n",
    "import matplotlib.pyplot as plt\n",
    "%matplotlib inline"
   ]
  },
  {
   "cell_type": "markdown",
   "metadata": {},
   "source": [
    "# Chapter 1\n",
    "## 1.1 Waveguide Structure\n"
   ]
  },
  {
   "cell_type": "code",
   "execution_count": 4,
   "metadata": {
    "collapsed": false
   },
   "outputs": [
    {
     "data": {
      "text/plain": [
       "(35.128552629911532, 0.61310890485206937, 0.06802679158448392)"
      ]
     },
     "execution_count": 4,
     "metadata": {},
     "output_type": "execute_result"
    }
   ],
   "source": [
    "n2 = 1.56   # Core (higher than cladding)\n",
    "n1 = 1.45  # Cladding\n",
    "\n",
    "# Max theta incident on waveguide for TIRF/ light acceptance angle in degrees:\n",
    "theta_max = np.degrees(np.arcsin(np.sqrt(n2**2 - n1**2))) # maximum light acceptance angle of the waveguide (1.1)\n",
    "delta = (n2**2 - n1**2) / (2*n2**2)                       # relative refractive-index difference between core and cladding (1.3) \n",
    "NA = np.radians (theta_max)                               # numerical aperture \n",
    "theta_max, NA,delta"
   ]
  },
  {
   "cell_type": "markdown",
   "metadata": {},
   "source": [
    "## 1.2 Formation of Guided Modes\n",
    "Even at angles smaller than the critical angle, arbitrary angles are not able to propagate in a waveguide. Each mode is associated with light rays at a discrete angle of propagation as given by EM wave analysis."
   ]
  },
  {
   "cell_type": "code",
   "execution_count": 5,
   "metadata": {
    "collapsed": true
   },
   "outputs": [],
   "source": [
    "# Inside the core for a plane wave propagating along z with angle phi:\n",
    "lambda_0 = 0.000155        # Free space wavelength (um) \n",
    "lambda_cm=0.000155"
   ]
  },
  {
   "cell_type": "code",
   "execution_count": 6,
   "metadata": {
    "collapsed": false
   },
   "outputs": [
    {
     "data": {
      "text/plain": [
       "(40536.679401158624, 63237.219865807456)"
      ]
     },
     "execution_count": 6,
     "metadata": {},
     "output_type": "execute_result"
    }
   ],
   "source": [
    "k = 2*np.pi / lambda_0        # Free space wavenumber\n",
    "k1 = n2 * k                   # Wavenumber in core\n",
    "k,k1\n"
   ]
  },
  {
   "cell_type": "code",
   "execution_count": 7,
   "metadata": {
    "collapsed": false
   },
   "outputs": [
    {
     "data": {
      "text/plain": [
       "21.644983739102422"
      ]
     },
     "execution_count": 7,
     "metadata": {},
     "output_type": "execute_result"
    }
   ],
   "source": [
    "# Propagation angle inside core\n",
    "phi_max = np.degrees(np.arcsin(np.sin(NA) / n2))  # (Snell's Law)\n",
    "phi_max"
   ]
  },
  {
   "cell_type": "code",
   "execution_count": 8,
   "metadata": {
    "collapsed": false
   },
   "outputs": [
    {
     "data": {
      "text/plain": [
       "1.0"
      ]
     },
     "execution_count": 8,
     "metadata": {},
     "output_type": "execute_result"
    }
   ],
   "source": [
    "phi = phi_max\n",
    "eps = np.sin(np.radians(phi)) / np.sqrt(2*delta) # (1.13) Note that this is normalised to 1 for when phi = phi_max\n",
    "eps  "
   ]
  },
  {
   "cell_type": "code",
   "execution_count": 9,
   "metadata": {
    "collapsed": false
   },
   "outputs": [
    {
     "data": {
      "text/plain": [
       "array([ 0.00473175,  0.02553661,  0.04633995,  0.06714057,  0.08793724,\n",
       "        0.10872873,  0.12951381,  0.15029126,  0.17105987,  0.1918184 ,\n",
       "        0.21256564,  0.23330035,  0.25402133,  0.27472735,  0.29541718,\n",
       "        0.31608962,  0.33674345,  0.35737744,  0.37799039,  0.39858108,\n",
       "        0.41914829,  0.43969082,  0.46020746,  0.48069699,  0.50115822,\n",
       "        0.52158993,  0.54199092,  0.56236   ,  0.58269595,  0.60299759,\n",
       "        0.62326372,  0.64349315,  0.66368467,  0.68383712,  0.70394929,\n",
       "        0.72402   ,  0.74404808,  0.76403233,  0.78397159,  0.80386469,\n",
       "        0.82371044,  0.84350768,  0.86325525,  0.88295198,  0.90259671,\n",
       "        0.92218828,  0.94172555,  0.96120735,  0.98063255,  1.        ])"
      ]
     },
     "execution_count": 9,
     "metadata": {},
     "output_type": "execute_result"
    }
   ],
   "source": [
    "a = 0.00004     # Half depth of waveguide (um)\n",
    "mode = 5    # Mode numbers to plot\n",
    "\n",
    "# Create linearly spaced array of eps corresponding to phi = 0.1 to phi_max for graph\n",
    "phi_eps = np.linspace (0.1,phi_max)\n",
    "eps_g = np.sin(np.radians(phi_eps)) / np.sqrt(2*delta)\n",
    "eps_g"
   ]
  },
  {
   "cell_type": "code",
   "execution_count": 10,
   "metadata": {
    "collapsed": false
   },
   "outputs": [
    {
     "data": {
      "text/plain": [
       "0.93301312229350752"
      ]
     },
     "execution_count": 10,
     "metadata": {},
     "output_type": "execute_result"
    }
   ],
   "source": [
    "a = 0.00004     # Half depth of waveguide (um)\n",
    "mode = 5    # Mode numbers to plot\n",
    "\n",
    "v = k*n2*a*np.sqrt(2*delta)  # Normalised frequency, LHS of dispersion eqn (1.15)\n",
    "v"
   ]
  },
  {
   "cell_type": "code",
   "execution_count": 11,
   "metadata": {
    "collapsed": false,
    "scrolled": true
   },
   "outputs": [
    {
     "data": {
      "text/plain": [
       "<matplotlib.text.Text at 0x720a2b0>"
      ]
     },
     "execution_count": 11,
     "metadata": {},
     "output_type": "execute_result"
    },
    {
     "data": {
      "image/png": "[encoded data removed]",
      "text/plain": [
       "<matplotlib.figure.Figure at 0x71d3fd0>"
      ]
     },
     "metadata": {},
     "output_type": "display_data"
    }
   ],
   "source": [
    "# Plot modes (fig 1.5)\n",
    "for m in range(mode):\n",
    "    nu = (np.arccos(np.array(eps_g)) + m*np.pi*(np.array(eps_g)) / 2 ) /(np.array(eps_g))  # (RHS dispersion eqn)\n",
    "    plt.plot(eps_g,nu, label=m)\n",
    "\n",
    "plt.axhline(v, color='black', label='v')        # Plot the line corresponding to v\n",
    "plt.xlim(0,1); plt.ylim(0,10); plt.legend(loc='best');\n",
    "plt.xlabel('$\\epsilon$'); plt.ylabel('$\\eta$')"
   ]
  },
  {
   "cell_type": "markdown",
   "metadata": {},
   "source": [
    "The crossing point between v (a function of the core refractive index, the cladding refractive index, the wavelength and the core diameter) and $\\eta$, or v = $\\eta$, gives $\\varepsilon_m$ for each mode. When v < v$_c$ = $\\pi$/2 the waveguide only supports one mode. The propagation constant, $\\beta_m$, for each mode may be obtained as follows:"
   ]
  },
  {
   "cell_type": "code",
   "execution_count": 12,
   "metadata": {
    "collapsed": false
   },
   "outputs": [
    {
     "data": {
      "text/plain": [
       "0.759349688952599"
      ]
     },
     "execution_count": 12,
     "metadata": {},
     "output_type": "execute_result"
    }
   ],
   "source": [
    "import scipy.optimize as optimize\n",
    "\n",
    "# Solve for epsilon_m where m is mode number\n",
    "m = 0   # Use only mode 0 as this is the only mode where v crosses eta between eps= 0:1\n",
    "def func(eps_g):\n",
    "    nu = (np.arccos(eps_g) + m*np.pi / 2 ) / eps_g\n",
    "    return nu - v\n",
    "\n",
    "eps_m = optimize.brentq(func, 0.01, 1)\n",
    "eps_m"
   ]
  },
  {
   "cell_type": "code",
   "execution_count": 13,
   "metadata": {
    "collapsed": false
   },
   "outputs": [
    {
     "data": {
      "text/plain": [
       "(16.265545768856995, 60706.080230866886)"
      ]
     },
     "execution_count": 13,
     "metadata": {},
     "output_type": "execute_result"
    }
   ],
   "source": [
    "phi = np.arcsin(eps_m * np.sqrt(2*delta))  # Returns phi in radians - propagation angle of mode m (1.13)\n",
    "beta = k * n2 * np.cos(phi)                # Beta of mode m (1.5)\n",
    "np.degrees(phi), beta "
   ]
  },
  {
   "cell_type": "code",
   "execution_count": 14,
   "metadata": {
    "collapsed": false
   },
   "outputs": [
    {
     "name": "stdout",
     "output_type": "stream",
     "text": [
      "Waveguide is single moded for lambda > 0.00 um\n",
      "Single Mode Achieved. Core wavelength: 0.00 um\n"
     ]
    }
   ],
   "source": [
    "vc = np.pi / 2                                      # Cutoff v-value above which waveguide is not single mode\n",
    "\n",
    "lam_c = (2*np.pi / vc) * a * n1 * np.sqrt(2*delta)  # (1.16)\n",
    "\n",
    "print('Waveguide is single moded for lambda > %.2f um' % lam_c)\n",
    "\n",
    "if v <= np.pi/2:\n",
    "    print('Single Mode Achieved. Core wavelength: %.2f um' % (lambda_0 / n1)) \n",
    "else:\n",
    "    print('Structure supports more than one mode')"
   ]
  },
  {
   "cell_type": "markdown",
   "metadata": {
    "collapsed": true
   },
   "source": [
    "# 2.1.2 Dispersion Equations for TE and TM modes"
   ]
  },
  {
   "cell_type": "code",
   "execution_count": 15,
   "metadata": {
    "collapsed": false
   },
   "outputs": [
    {
     "data": {
      "text/plain": [
       "(17712.080605056704, 15177.388761654584)"
      ]
     },
     "execution_count": 15,
     "metadata": {},
     "output_type": "execute_result"
    }
   ],
   "source": [
    "kappa = np.sqrt (k**2*n2**2-beta**2)\n",
    "sigma = np.sqrt (beta**2-k**2*n1**2)\n",
    "kappa,sigma"
   ]
  },
  {
   "cell_type": "code",
   "execution_count": 16,
   "metadata": {
    "collapsed": false
   },
   "outputs": [],
   "source": [
    "a1 = np.linspace (0.00001,a+0.0002)\n",
    "u = kappa*a1\n",
    "omega = sigma*a1\n"
   ]
  },
  {
   "cell_type": "code",
   "execution_count": 17,
   "metadata": {
    "collapsed": false,
    "scrolled": true
   },
   "outputs": [],
   "source": [
    "omega1 = u*np.tan(u)  #dispersion equation (2.24)      "
   ]
  },
  {
   "cell_type": "code",
   "execution_count": 18,
   "metadata": {
    "collapsed": false
   },
   "outputs": [
    {
     "data": {
      "text/plain": [
       "(0, 1.5)"
      ]
     },
     "execution_count": 18,
     "metadata": {},
     "output_type": "execute_result"
    },
    {
     "data": {
      "image/png": "[encoded data removed]",
      "text/plain": [
       "<matplotlib.figure.Figure at 0x79c1d68>"
      ]
     },
     "metadata": {},
     "output_type": "display_data"
    }
   ],
   "source": [
    "cir1 = plt.Circle((0,0), radius=v,fc='w') #Creates a patch that looks like a circle (fc= face color)\n",
    "ax = plt.axes(aspect=1) #Creates empty axes (aspect=1 means scale things so that circles look like circles)\n",
    "ax.add_patch(cir1) #Grab the current axes, add the patch to it\n",
    "plt.plot()\n",
    "plt.plot(u,omega1)\n",
    "plt.ylim (0,3)\n",
    "plt.xlim (0,1.5)"
   ]
  },
  {
   "cell_type": "code",
   "execution_count": 19,
   "metadata": {
    "collapsed": false
   },
   "outputs": [
    {
     "data": {
      "text/plain": [
       "array([ -4.40000000e-04,  -4.31111111e-04,  -4.22222222e-04,\n",
       "        -4.13333333e-04,  -4.04444444e-04,  -3.95555556e-04,\n",
       "        -3.86666667e-04,  -3.77777778e-04,  -3.68888889e-04,\n",
       "        -3.60000000e-04,  -3.51111111e-04,  -3.42222222e-04,\n",
       "        -3.33333333e-04,  -3.24444444e-04,  -3.15555556e-04,\n",
       "        -3.06666667e-04,  -2.97777778e-04,  -2.88888889e-04,\n",
       "        -2.80000000e-04,  -2.71111111e-04,  -2.62222222e-04,\n",
       "        -2.53333333e-04,  -2.44444444e-04,  -2.35555556e-04,\n",
       "        -2.26666667e-04,  -2.17777778e-04,  -2.08888889e-04,\n",
       "        -2.00000000e-04,  -1.91111111e-04,  -1.82222222e-04,\n",
       "        -1.73333333e-04,  -1.64444444e-04,  -1.55555556e-04,\n",
       "        -1.46666667e-04,  -1.37777778e-04,  -1.28888889e-04,\n",
       "        -1.20000000e-04,  -1.11111111e-04,  -1.02222222e-04,\n",
       "        -9.33333333e-05,  -8.44444444e-05,  -7.55555556e-05,\n",
       "        -6.66666667e-05,  -5.77777778e-05,  -4.88888889e-05,\n",
       "        -4.00000000e-05,  -3.11111111e-05,  -2.22222222e-05,\n",
       "        -1.33333333e-05,  -4.44444444e-06,   4.44444444e-06,\n",
       "         1.33333333e-05,   2.22222222e-05,   3.11111111e-05,\n",
       "         4.00000000e-05,   4.88888889e-05,   5.77777778e-05,\n",
       "         6.66666667e-05,   7.55555556e-05,   8.44444444e-05,\n",
       "         9.33333333e-05,   1.02222222e-04,   1.11111111e-04,\n",
       "         1.20000000e-04,   1.28888889e-04,   1.37777778e-04,\n",
       "         1.46666667e-04,   1.55555556e-04,   1.64444444e-04,\n",
       "         1.73333333e-04,   1.82222222e-04,   1.91111111e-04,\n",
       "         2.00000000e-04,   2.08888889e-04,   2.17777778e-04,\n",
       "         2.26666667e-04,   2.35555556e-04,   2.44444444e-04,\n",
       "         2.53333333e-04,   2.62222222e-04,   2.71111111e-04,\n",
       "         2.80000000e-04,   2.88888889e-04,   2.97777778e-04,\n",
       "         3.06666667e-04,   3.15555556e-04,   3.24444444e-04,\n",
       "         3.33333333e-04,   3.42222222e-04,   3.51111111e-04,\n",
       "         3.60000000e-04,   3.68888889e-04,   3.77777778e-04,\n",
       "         3.86666667e-04,   3.95555556e-04,   4.04444444e-04,\n",
       "         4.13333333e-04,   4.22222222e-04,   4.31111111e-04,\n",
       "         4.40000000e-04])"
      ]
     },
     "execution_count": 19,
     "metadata": {},
     "output_type": "execute_result"
    }
   ],
   "source": [
    "x = np.linspace(-(a+0.0004),(a+0.0004),100)\n",
    "x"
   ]
  },
  {
   "cell_type": "code",
   "execution_count": 20,
   "metadata": {
    "collapsed": true
   },
   "outputs": [],
   "source": [
    "E1 = 1\n",
    "Ey = np.zeros(x.size) \n"
   ]
  },
  {
   "cell_type": "code",
   "execution_count": 21,
   "metadata": {
    "collapsed": false
   },
   "outputs": [],
   "source": [
    "# Electectric field distribition is expressed as:\n",
    "for i, posn in enumerate(x):\n",
    "\n",
    "    if posn <= -a:\n",
    "        Ey[i] = E1*np.cos (kappa*a)*np.exp (sigma*(posn+a))\n",
    "    elif posn >= a:\n",
    "        Ey[i] = E1*np.cos (kappa*a)*np.exp (-sigma*(posn-a))\n",
    "    elif (posn <=a) & (posn>=-a):\n",
    "        Ey[i] = E1*np.cos (kappa*posn)"
   ]
  },
  {
   "cell_type": "code",
   "execution_count": 22,
   "metadata": {
    "collapsed": false
   },
   "outputs": [
    {
     "data": {
      "text/plain": [
       "[<matplotlib.lines.Line2D at 0x81bf5f8>]"
      ]
     },
     "execution_count": 22,
     "metadata": {},
     "output_type": "execute_result"
    },
    {
     "data": {
      "image/png": "[encoded data removed]",
      "text/plain": [
       "<matplotlib.figure.Figure at 0x8120390>"
      ]
     },
     "metadata": {},
     "output_type": "display_data"
    }
   ],
   "source": [
    "plt.plot (x,Ey)"
   ]
  },
  {
   "cell_type": "markdown",
   "metadata": {
    "collapsed": true
   },
   "source": [
    "## other parameter"
   ]
  },
  {
   "cell_type": "code",
   "execution_count": 24,
   "metadata": {
    "collapsed": false
   },
   "outputs": [
    {
     "name": "stderr",
     "output_type": "stream",
     "text": [
      "C:\\Users\\suraya.ahmadkamil\\Anaconda3\\lib\\site-packages\\IPython\\kernel\\__main__.py:1: RuntimeWarning: invalid value encountered in arcsin\n",
      "  if __name__ == '__main__':\n"
     ]
    },
    {
     "data": {
      "text/plain": [
       "nan"
      ]
     },
     "execution_count": 24,
     "metadata": {},
     "output_type": "execute_result"
    }
   ],
   "source": [
    "theta_c_rad = np.arcsin(n2/n1)                #critical angle in radians\n",
    "theta_c_rad"
   ]
  },
  {
   "cell_type": "code",
   "execution_count": null,
   "metadata": {
    "collapsed": true
   },
   "outputs": [],
   "source": []
  }
 ],
 "metadata": {
  "kernelspec": {
   "display_name": "Python 3",
   "language": "python",
   "name": "python3"
  },
  "language_info": {
   "codemirror_mode": {
    "name": "ipython",
    "version": 3
   },
   "file_extension": ".py",
   "mimetype": "text/x-python",
   "name": "python",
   "nbconvert_exporter": "python",
   "pygments_lexer": "ipython3",
   "version": "3.4.3"
  }
 },
 "nbformat": 4,
 "nbformat_minor": 0
}
